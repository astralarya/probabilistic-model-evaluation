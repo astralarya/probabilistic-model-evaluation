{
 "cells": [
  {
   "cell_type": "markdown",
   "metadata": {},
   "source": [
    "# Probabilistic Model Evaluation"
   ]
  },
  {
   "cell_type": "markdown",
   "metadata": {},
   "source": [
    "When using deep learning models in production,\n",
    "we do not have the luxury of having access to ground-truth.\n",
    "However, it may be feasable to integrate a human domain expert\n",
    "into production workflows.\n",
    "\n",
    "In order to maximize throughput,\n",
    "we must be selective about when we alert our human expert.\n",
    "If we can understand the reliability of our model predictions\n",
    "as a function of its self-reported confidence,\n",
    "we can use this to guide business logic in our application."
   ]
  },
  {
   "cell_type": "markdown",
   "metadata": {},
   "source": [
    "## Setup Environment"
   ]
  },
  {
   "cell_type": "code",
   "execution_count": 18,
   "metadata": {},
   "outputs": [],
   "source": [
    "import matplotlib.pyplot as plt\n",
    "import numpy as np\n",
    "import pandas as pd\n",
    "from scipy.stats.mstats import mquantiles\n",
    "import tensorflow as tf\n",
    "import tensorflow_probability as tfp"
   ]
  },
  {
   "cell_type": "markdown",
   "metadata": {},
   "source": [
    "## Probabilistic Model"
   ]
  },
  {
   "cell_type": "markdown",
   "metadata": {},
   "source": [
    "The chance of our model making a valid prediction\n",
    "can be thought of as a\n",
    "[Bernoulli](https://en.wikipedia.org/wiki/Bernoulli_distribution)\n",
    "random variable:\n",
    "\n",
    "$$\\text{Valid Prediction}, V_i \\sim \\text{Ber}( p(c_i) ), i=1..N$$"
   ]
  },
  {
   "cell_type": "markdown",
   "metadata": {},
   "source": [
    "where $p(c_i)$ is a\n",
    "[logistic function](https://en.wikipedia.org/wiki/Logistic_function)\n",
    "of the prediction confidence:\n",
    "\n",
    "$$p(c) = \\frac{1}{1+e^{\\beta c + \\alpha}}$$"
   ]
  },
  {
   "cell_type": "markdown",
   "metadata": {},
   "source": [
    "We can use our ground-truth validations to evaluate\n",
    "the likelihood that a given *logistic function*\n",
    "with parameters $\\alpha$ and $\\beta$\n",
    "\"explains\" the data.\n",
    "\n",
    "This likelihood defines the following\n",
    "joint log probability optimization function:"
   ]
  },
  {
   "cell_type": "code",
   "execution_count": 2,
   "metadata": {},
   "outputs": [],
   "source": [
    "def validation_joint_log_prob(validation, confidence, alpha, beta):\n",
    "    prior_alpha = tfp.distributions.Normal(loc=0., scale=1)\n",
    "    prior_beta = tfp.distributions.Normal(loc=-5, scale=10)\n",
    "    \n",
    "    logistic_p = 1./(1. + tf.exp(beta * confidence + alpha))\n",
    "    expected = tfp.distributions.Bernoulli(probs=logistic_p)\n",
    "    \n",
    "    return (\n",
    "        prior_alpha.log_prob(alpha)\n",
    "        + prior_beta.log_prob(beta)\n",
    "        + tf.reduce_sum(expected.log_prob(validation))\n",
    "    )"
   ]
  },
  {
   "cell_type": "markdown",
   "metadata": {},
   "source": [
    "## Hamiltonian Monte Carlo"
   ]
  },
  {
   "cell_type": "code",
   "execution_count": 77,
   "metadata": {},
   "outputs": [],
   "source": [
    "def hamiltonian_monte_carlo(\n",
    "    validation,\n",
    "    confidence,\n",
    "    num_steps=1000,\n",
    "    num_leapfrog_steps=4,\n",
    "    step_size=0.01,\n",
    "):\n",
    "    # Initialize the HMC\n",
    "    initial_chain_state = [\n",
    "        0. * tf.ones([], dtype=tf.float32, name=\"init_alpha\"),\n",
    "        0. * tf.ones([], dtype=tf.float32, name=\"init_beta\"),\n",
    "    ]\n",
    "    burnin = num_steps // 5\n",
    "    \n",
    "    # Rescale \"beta\" to be 10x magnitude of \"alpha\"\n",
    "    unconstraining_bijectors = [\n",
    "        tfp.bijectors.Identity(),\n",
    "        tfp.bijectors.Scale(10),\n",
    "    ]\n",
    "    \n",
    "    # Create a closure with our input data\n",
    "    unnormalized_posterior_log_prob = (\n",
    "        lambda *args: validation_joint_log_prob(\n",
    "            validation,\n",
    "            confidence,\n",
    "            *args,\n",
    "        )\n",
    "    )\n",
    "    \n",
    "    # Define the HMC\n",
    "    hmc = tfp.mcmc.TransformedTransitionKernel(\n",
    "        inner_kernel=tfp.mcmc.SimpleStepSizeAdaptation(\n",
    "            inner_kernel=tfp.mcmc.HamiltonianMonteCarlo(\n",
    "                target_log_prob_fn=unnormalized_posterior_log_prob,\n",
    "                num_leapfrog_steps=num_leapfrog_steps,\n",
    "                step_size=step_size,\n",
    "            ),\n",
    "            num_adaptation_steps=int(burnin * 0.8)\n",
    "        ),\n",
    "        bijector=unconstraining_bijectors,\n",
    "    )\n",
    "    \n",
    "    # Sample from the chain\n",
    "    [\n",
    "        posterior_alpha,\n",
    "        posterior_beta,\n",
    "    ], kernel_results = tfp.mcmc.sample_chain(\n",
    "        num_results=num_steps,\n",
    "        num_burnin_steps=burnin,\n",
    "        current_state=initial_chain_state,\n",
    "        kernel=hmc,\n",
    "    )\n",
    "    \n",
    "    return posterior_alpha, posterior_beta, kernel_results"
   ]
  },
  {
   "cell_type": "code",
   "execution_count": 78,
   "metadata": {},
   "outputs": [],
   "source": [
    "def hmc_stats(posterior_alpha, posterior_beta):\n",
    "    posterior_alpha_1d = posterior_alpha[:,None]\n",
    "    posterior_beta_1d = posterior_beta[:,None]\n",
    "    \n",
    "    mean_alpha = tf.reduce_mean(posterior_alpha_1d)\n",
    "    mean_beta = tf.reduce_mean(posterior_beta_1d)\n",
    "    \n",
    "    def logistic(x, alpha, beta):\n",
    "        return 1./(1. + tf.exp(beta * x + alpha))\n",
    "    \n",
    "    linspace = np.linspace(0, 1, 1000)[:,None]\n",
    "    p_linspace = logistic(linspace.T, posterior_alpha_1d, posterior_beta_1d)\n",
    "    mean_p = logistic(linspace.T, mean_alpha, mean_beta)\n",
    "    \n",
    "    quantiles = mquantiles(p_linspace, [0.025, 0.975], axis=0)\n",
    "    \n",
    "    return mean_alpha, mean_beta, linspace, p_linspace, mean_p, quantiles"
   ]
  },
  {
   "cell_type": "markdown",
   "metadata": {},
   "source": [
    "## Example: Reasonable Data"
   ]
  },
  {
   "cell_type": "code",
   "execution_count": 79,
   "metadata": {},
   "outputs": [
    {
     "data": {
      "text/html": [
       "<div>\n",
       "<style scoped>\n",
       "    .dataframe tbody tr th:only-of-type {\n",
       "        vertical-align: middle;\n",
       "    }\n",
       "\n",
       "    .dataframe tbody tr th {\n",
       "        vertical-align: top;\n",
       "    }\n",
       "\n",
       "    .dataframe thead th {\n",
       "        text-align: right;\n",
       "    }\n",
       "</style>\n",
       "<table border=\"1\" class=\"dataframe\">\n",
       "  <thead>\n",
       "    <tr style=\"text-align: right;\">\n",
       "      <th></th>\n",
       "      <th>confidence</th>\n",
       "      <th>validation</th>\n",
       "    </tr>\n",
       "  </thead>\n",
       "  <tbody>\n",
       "    <tr>\n",
       "      <th>0</th>\n",
       "      <td>0.111028</td>\n",
       "      <td>0</td>\n",
       "    </tr>\n",
       "    <tr>\n",
       "      <th>1</th>\n",
       "      <td>0.542757</td>\n",
       "      <td>1</td>\n",
       "    </tr>\n",
       "    <tr>\n",
       "      <th>2</th>\n",
       "      <td>0.178984</td>\n",
       "      <td>1</td>\n",
       "    </tr>\n",
       "    <tr>\n",
       "      <th>3</th>\n",
       "      <td>0.860905</td>\n",
       "      <td>1</td>\n",
       "    </tr>\n",
       "    <tr>\n",
       "      <th>4</th>\n",
       "      <td>0.696550</td>\n",
       "      <td>1</td>\n",
       "    </tr>\n",
       "    <tr>\n",
       "      <th>...</th>\n",
       "      <td>...</td>\n",
       "      <td>...</td>\n",
       "    </tr>\n",
       "    <tr>\n",
       "      <th>995</th>\n",
       "      <td>0.276820</td>\n",
       "      <td>1</td>\n",
       "    </tr>\n",
       "    <tr>\n",
       "      <th>996</th>\n",
       "      <td>0.175565</td>\n",
       "      <td>0</td>\n",
       "    </tr>\n",
       "    <tr>\n",
       "      <th>997</th>\n",
       "      <td>0.323033</td>\n",
       "      <td>1</td>\n",
       "    </tr>\n",
       "    <tr>\n",
       "      <th>998</th>\n",
       "      <td>0.715152</td>\n",
       "      <td>1</td>\n",
       "    </tr>\n",
       "    <tr>\n",
       "      <th>999</th>\n",
       "      <td>0.768669</td>\n",
       "      <td>1</td>\n",
       "    </tr>\n",
       "  </tbody>\n",
       "</table>\n",
       "<p>1000 rows × 2 columns</p>\n",
       "</div>"
      ],
      "text/plain": [
       "     confidence  validation\n",
       "0      0.111028           0\n",
       "1      0.542757           1\n",
       "2      0.178984           1\n",
       "3      0.860905           1\n",
       "4      0.696550           1\n",
       "..          ...         ...\n",
       "995    0.276820           1\n",
       "996    0.175565           0\n",
       "997    0.323033           1\n",
       "998    0.715152           1\n",
       "999    0.768669           1\n",
       "\n",
       "[1000 rows x 2 columns]"
      ]
     },
     "execution_count": 79,
     "metadata": {},
     "output_type": "execute_result"
    }
   ],
   "source": [
    "reasonable_data = pd.read_csv(\"validations/reasonable.csv\")\n",
    "reasonable_data"
   ]
  },
  {
   "cell_type": "code",
   "execution_count": 80,
   "metadata": {},
   "outputs": [
    {
     "data": {
      "text/plain": [
       "TensorShape([1000])"
      ]
     },
     "execution_count": 80,
     "metadata": {},
     "output_type": "execute_result"
    }
   ],
   "source": [
    "reasonable_validation = tf.convert_to_tensor(\n",
    "    reasonable_data[\"validation\"].to_numpy(),\n",
    "    dtype=tf.float32,\n",
    ")\n",
    "reasonable_validation.shape"
   ]
  },
  {
   "cell_type": "code",
   "execution_count": 81,
   "metadata": {},
   "outputs": [
    {
     "data": {
      "text/plain": [
       "TensorShape([1000])"
      ]
     },
     "execution_count": 81,
     "metadata": {},
     "output_type": "execute_result"
    }
   ],
   "source": [
    "reasonable_confidence = tf.convert_to_tensor(\n",
    "    reasonable_data[\"confidence\"].to_numpy(),\n",
    "    dtype=tf.float32,\n",
    ")\n",
    "reasonable_confidence.shape"
   ]
  },
  {
   "cell_type": "code",
   "execution_count": 82,
   "metadata": {},
   "outputs": [
    {
     "name": "stderr",
     "output_type": "stream",
     "text": [
      "/home/mara/.local/share/virtualenvs/probabilistic-model-evaluation--jq05Z78/lib/python3.6/site-packages/tensorflow_probability/python/mcmc/sample.py:338: UserWarning: Tracing all kernel results by default is deprecated. Set the `trace_fn` argument to None (the future default value) or an explicit callback that traces the values you are interested in.\n",
      "  warnings.warn('Tracing all kernel results by default is deprecated. Set '\n"
     ]
    },
    {
     "name": "stdout",
     "output_type": "stream",
     "text": [
      "CPU times: user 39.7 s, sys: 0 ns, total: 39.7 s\n",
      "Wall time: 39.7 s\n"
     ]
    }
   ],
   "source": [
    "%%time\n",
    "\n",
    "reasonable_alpha, reasonable_beta, kernel_results = (\n",
    "    hamiltonian_monte_carlo(\n",
    "        reasonable_validation,\n",
    "        reasonable_confidence,\n",
    "    )\n",
    ")"
   ]
  },
  {
   "cell_type": "code",
   "execution_count": 83,
   "metadata": {},
   "outputs": [
    {
     "data": {
      "image/png": "[encoded data removed]",
      "text/plain": [
       "<Figure size 864x432 with 2 Axes>"
      ]
     },
     "metadata": {
      "needs_background": "light"
     },
     "output_type": "display_data"
    }
   ],
   "source": [
    "plt.figure(figsize=(12,6))\n",
    "\n",
    "plt.subplot(211)\n",
    "plt.title(r\"Posterior distributions of $\\alpha, \\beta$\")\n",
    "plt.hist(reasonable_beta.numpy(), histtype='stepfilled', bins=10, alpha=0.8,\n",
    "         label=r\"posterior of $\\beta$\")\n",
    "plt.legend()\n",
    "\n",
    "plt.subplot(212)\n",
    "plt.hist(reasonable_alpha.numpy(), histtype='stepfilled', bins=10, alpha=0.8,\n",
    "         label=r\"posterior of $\\alpha$\")\n",
    "plt.legend();"
   ]
  },
  {
   "cell_type": "code",
   "execution_count": 87,
   "metadata": {},
   "outputs": [],
   "source": [
    "(\n",
    "    reasonable_alpha_mean,\n",
    "    reasonable_beta_mean,\n",
    "    reasonable_linspace,\n",
    "    reasonable_p_linspace,\n",
    "    reasonable_mean_p,\n",
    "    reasonable_quantiles,\n",
    ") = hmc_stats(reasonable_alpha, reasonable_beta)"
   ]
  },
  {
   "cell_type": "code",
   "execution_count": 88,
   "metadata": {},
   "outputs": [
    {
     "data": {
      "text/plain": [
       "Text(0.5, 1.0, 'Validation Probability given Prediction Confidence')"
      ]
     },
     "execution_count": 88,
     "metadata": {},
     "output_type": "execute_result"
    },
    {
     "data": {
      "image/png": "[encoded data removed]",
      "text/plain": [
       "<Figure size 432x288 with 1 Axes>"
      ]
     },
     "metadata": {
      "needs_background": "light"
     },
     "output_type": "display_data"
    }
   ],
   "source": [
    "plt.fill_between(reasonable_linspace[:,0], *reasonable_quantiles, alpha=0.5)\n",
    "plt.plot(reasonable_linspace, mean_p[0,:])\n",
    "plt.xlim(reasonable_linspace.min(), reasonable_linspace.max())\n",
    "plt.ylim(0,1)\n",
    "\n",
    "plt.xlabel(\"Prediction Confidence, $c$\")\n",
    "plt.ylabel(\"Validation Probability, $p(c)$\")\n",
    "plt.title(\"Validation Probability given Prediction Confidence\")"
   ]
  },
  {
   "cell_type": "markdown",
   "metadata": {},
   "source": [
    "## Example: Random Data"
   ]
  },
  {
   "cell_type": "code",
   "execution_count": 89,
   "metadata": {},
   "outputs": [
    {
     "data": {
      "text/html": [
       "<div>\n",
       "<style scoped>\n",
       "    .dataframe tbody tr th:only-of-type {\n",
       "        vertical-align: middle;\n",
       "    }\n",
       "\n",
       "    .dataframe tbody tr th {\n",
       "        vertical-align: top;\n",
       "    }\n",
       "\n",
       "    .dataframe thead th {\n",
       "        text-align: right;\n",
       "    }\n",
       "</style>\n",
       "<table border=\"1\" class=\"dataframe\">\n",
       "  <thead>\n",
       "    <tr style=\"text-align: right;\">\n",
       "      <th></th>\n",
       "      <th>confidence</th>\n",
       "      <th>validation</th>\n",
       "    </tr>\n",
       "  </thead>\n",
       "  <tbody>\n",
       "    <tr>\n",
       "      <th>0</th>\n",
       "      <td>0.930547</td>\n",
       "      <td>0.0</td>\n",
       "    </tr>\n",
       "    <tr>\n",
       "      <th>1</th>\n",
       "      <td>0.101232</td>\n",
       "      <td>0.0</td>\n",
       "    </tr>\n",
       "    <tr>\n",
       "      <th>2</th>\n",
       "      <td>0.393576</td>\n",
       "      <td>1.0</td>\n",
       "    </tr>\n",
       "    <tr>\n",
       "      <th>3</th>\n",
       "      <td>0.515892</td>\n",
       "      <td>1.0</td>\n",
       "    </tr>\n",
       "    <tr>\n",
       "      <th>4</th>\n",
       "      <td>0.482551</td>\n",
       "      <td>0.0</td>\n",
       "    </tr>\n",
       "    <tr>\n",
       "      <th>...</th>\n",
       "      <td>...</td>\n",
       "      <td>...</td>\n",
       "    </tr>\n",
       "    <tr>\n",
       "      <th>995</th>\n",
       "      <td>0.343078</td>\n",
       "      <td>1.0</td>\n",
       "    </tr>\n",
       "    <tr>\n",
       "      <th>996</th>\n",
       "      <td>0.117733</td>\n",
       "      <td>1.0</td>\n",
       "    </tr>\n",
       "    <tr>\n",
       "      <th>997</th>\n",
       "      <td>0.862322</td>\n",
       "      <td>1.0</td>\n",
       "    </tr>\n",
       "    <tr>\n",
       "      <th>998</th>\n",
       "      <td>0.969050</td>\n",
       "      <td>0.0</td>\n",
       "    </tr>\n",
       "    <tr>\n",
       "      <th>999</th>\n",
       "      <td>0.004535</td>\n",
       "      <td>1.0</td>\n",
       "    </tr>\n",
       "  </tbody>\n",
       "</table>\n",
       "<p>1000 rows × 2 columns</p>\n",
       "</div>"
      ],
      "text/plain": [
       "     confidence  validation\n",
       "0      0.930547         0.0\n",
       "1      0.101232         0.0\n",
       "2      0.393576         1.0\n",
       "3      0.515892         1.0\n",
       "4      0.482551         0.0\n",
       "..          ...         ...\n",
       "995    0.343078         1.0\n",
       "996    0.117733         1.0\n",
       "997    0.862322         1.0\n",
       "998    0.969050         0.0\n",
       "999    0.004535         1.0\n",
       "\n",
       "[1000 rows x 2 columns]"
      ]
     },
     "execution_count": 89,
     "metadata": {},
     "output_type": "execute_result"
    }
   ],
   "source": [
    "random_data = pd.read_csv(\"validations/random.csv\")\n",
    "random_data"
   ]
  },
  {
   "cell_type": "code",
   "execution_count": 90,
   "metadata": {},
   "outputs": [
    {
     "data": {
      "text/plain": [
       "TensorShape([1000])"
      ]
     },
     "execution_count": 90,
     "metadata": {},
     "output_type": "execute_result"
    }
   ],
   "source": [
    "random_validation = tf.convert_to_tensor(\n",
    "    random_data[\"validation\"].to_numpy(),\n",
    "    dtype=tf.float32,\n",
    ")\n",
    "random_validation.shape"
   ]
  },
  {
   "cell_type": "code",
   "execution_count": 91,
   "metadata": {},
   "outputs": [
    {
     "data": {
      "text/plain": [
       "TensorShape([1000])"
      ]
     },
     "execution_count": 91,
     "metadata": {},
     "output_type": "execute_result"
    }
   ],
   "source": [
    "random_confidence = tf.convert_to_tensor(\n",
    "    random_data[\"confidence\"].to_numpy(),\n",
    "    dtype=tf.float32,\n",
    ")\n",
    "random_confidence.shape"
   ]
  },
  {
   "cell_type": "code",
   "execution_count": 92,
   "metadata": {},
   "outputs": [
    {
     "name": "stderr",
     "output_type": "stream",
     "text": [
      "/home/mara/.local/share/virtualenvs/probabilistic-model-evaluation--jq05Z78/lib/python3.6/site-packages/tensorflow_probability/python/mcmc/sample.py:338: UserWarning: Tracing all kernel results by default is deprecated. Set the `trace_fn` argument to None (the future default value) or an explicit callback that traces the values you are interested in.\n",
      "  warnings.warn('Tracing all kernel results by default is deprecated. Set '\n"
     ]
    },
    {
     "name": "stdout",
     "output_type": "stream",
     "text": [
      "CPU times: user 40.7 s, sys: 0 ns, total: 40.7 s\n",
      "Wall time: 40.7 s\n"
     ]
    }
   ],
   "source": [
    "%%time\n",
    "\n",
    "random_alpha, random_beta, kernel_results = (\n",
    "    hamiltonian_monte_carlo(\n",
    "        random_validation,\n",
    "        random_confidence,\n",
    "    )\n",
    ")"
   ]
  },
  {
   "cell_type": "code",
   "execution_count": 99,
   "metadata": {},
   "outputs": [],
   "source": [
    "(\n",
    "    random_alpha_mean,\n",
    "    random_beta_mean,\n",
    "    random_linspace,\n",
    "    random_p_linspace,\n",
    "    random_mean_p,\n",
    "    random_quantiles,\n",
    ") = hmc_stats(random_alpha, random_beta)"
   ]
  },
  {
   "cell_type": "code",
   "execution_count": 100,
   "metadata": {},
   "outputs": [
    {
     "data": {
      "text/plain": [
       "Text(0.5, 1.0, 'Validation Probability given Prediction Confidence')"
      ]
     },
     "execution_count": 100,
     "metadata": {},
     "output_type": "execute_result"
    },
    {
     "data": {
      "image/png": "[encoded data removed]",
      "text/plain": [
       "<Figure size 432x288 with 1 Axes>"
      ]
     },
     "metadata": {
      "needs_background": "light"
     },
     "output_type": "display_data"
    }
   ],
   "source": [
    "plt.fill_between(random_linspace[:,0], *random_quantiles, alpha=0.5)\n",
    "plt.plot(random_linspace, random_mean_p[0,:])\n",
    "plt.xlim(random_linspace.min(), random_linspace.max())\n",
    "plt.ylim(0,1)\n",
    "\n",
    "plt.xlabel(\"Prediction Confidence, $c$\")\n",
    "plt.ylabel(\"Validation Probability, $p(c)$\")\n",
    "plt.title(\"Validation Probability given Prediction Confidence\")"
   ]
  },
  {
   "cell_type": "markdown",
   "metadata": {},
   "source": [
    "## Example: Partially Trained Model"
   ]
  },
  {
   "cell_type": "code",
   "execution_count": 127,
   "metadata": {},
   "outputs": [
    {
     "data": {
      "text/html": [
       "<div>\n",
       "<style scoped>\n",
       "    .dataframe tbody tr th:only-of-type {\n",
       "        vertical-align: middle;\n",
       "    }\n",
       "\n",
       "    .dataframe tbody tr th {\n",
       "        vertical-align: top;\n",
       "    }\n",
       "\n",
       "    .dataframe thead th {\n",
       "        text-align: right;\n",
       "    }\n",
       "</style>\n",
       "<table border=\"1\" class=\"dataframe\">\n",
       "  <thead>\n",
       "    <tr style=\"text-align: right;\">\n",
       "      <th></th>\n",
       "      <th>confidence</th>\n",
       "      <th>validation</th>\n",
       "    </tr>\n",
       "  </thead>\n",
       "  <tbody>\n",
       "    <tr>\n",
       "      <th>0</th>\n",
       "      <td>0.136964</td>\n",
       "      <td>1</td>\n",
       "    </tr>\n",
       "    <tr>\n",
       "      <th>1</th>\n",
       "      <td>0.374706</td>\n",
       "      <td>1</td>\n",
       "    </tr>\n",
       "    <tr>\n",
       "      <th>2</th>\n",
       "      <td>0.553394</td>\n",
       "      <td>1</td>\n",
       "    </tr>\n",
       "    <tr>\n",
       "      <th>3</th>\n",
       "      <td>0.686658</td>\n",
       "      <td>1</td>\n",
       "    </tr>\n",
       "    <tr>\n",
       "      <th>4</th>\n",
       "      <td>0.617029</td>\n",
       "      <td>1</td>\n",
       "    </tr>\n",
       "    <tr>\n",
       "      <th>...</th>\n",
       "      <td>...</td>\n",
       "      <td>...</td>\n",
       "    </tr>\n",
       "    <tr>\n",
       "      <th>803</th>\n",
       "      <td>0.418096</td>\n",
       "      <td>1</td>\n",
       "    </tr>\n",
       "    <tr>\n",
       "      <th>804</th>\n",
       "      <td>0.315803</td>\n",
       "      <td>1</td>\n",
       "    </tr>\n",
       "    <tr>\n",
       "      <th>805</th>\n",
       "      <td>0.356133</td>\n",
       "      <td>1</td>\n",
       "    </tr>\n",
       "    <tr>\n",
       "      <th>806</th>\n",
       "      <td>0.611851</td>\n",
       "      <td>1</td>\n",
       "    </tr>\n",
       "    <tr>\n",
       "      <th>807</th>\n",
       "      <td>0.416511</td>\n",
       "      <td>1</td>\n",
       "    </tr>\n",
       "  </tbody>\n",
       "</table>\n",
       "<p>808 rows × 2 columns</p>\n",
       "</div>"
      ],
      "text/plain": [
       "     confidence  validation\n",
       "0      0.136964           1\n",
       "1      0.374706           1\n",
       "2      0.553394           1\n",
       "3      0.686658           1\n",
       "4      0.617029           1\n",
       "..          ...         ...\n",
       "803    0.418096           1\n",
       "804    0.315803           1\n",
       "805    0.356133           1\n",
       "806    0.611851           1\n",
       "807    0.416511           1\n",
       "\n",
       "[808 rows x 2 columns]"
      ]
     },
     "execution_count": 127,
     "metadata": {},
     "output_type": "execute_result"
    }
   ],
   "source": [
    "partialmodel_data = pd.read_csv(\"validations/partial_model.csv\")\n",
    "partialmodel_data"
   ]
  },
  {
   "cell_type": "code",
   "execution_count": 128,
   "metadata": {},
   "outputs": [
    {
     "data": {
      "text/plain": [
       "TensorShape([808])"
      ]
     },
     "execution_count": 128,
     "metadata": {},
     "output_type": "execute_result"
    }
   ],
   "source": [
    "partialmodel_validation = tf.convert_to_tensor(\n",
    "    partialmodel_data[\"validation\"].to_numpy(),\n",
    "    dtype=tf.float32,\n",
    ")\n",
    "partialmodel_validation.shape"
   ]
  },
  {
   "cell_type": "code",
   "execution_count": 129,
   "metadata": {},
   "outputs": [
    {
     "data": {
      "text/plain": [
       "TensorShape([808])"
      ]
     },
     "execution_count": 129,
     "metadata": {},
     "output_type": "execute_result"
    }
   ],
   "source": [
    "partialmodel_confidence = tf.convert_to_tensor(\n",
    "    partialmodel_data[\"confidence\"].to_numpy(),\n",
    "    dtype=tf.float32,\n",
    ")\n",
    "partialmodel_confidence.shape"
   ]
  },
  {
   "cell_type": "code",
   "execution_count": 130,
   "metadata": {},
   "outputs": [
    {
     "name": "stderr",
     "output_type": "stream",
     "text": [
      "/home/mara/.local/share/virtualenvs/probabilistic-model-evaluation--jq05Z78/lib/python3.6/site-packages/tensorflow_probability/python/mcmc/sample.py:338: UserWarning: Tracing all kernel results by default is deprecated. Set the `trace_fn` argument to None (the future default value) or an explicit callback that traces the values you are interested in.\n",
      "  warnings.warn('Tracing all kernel results by default is deprecated. Set '\n"
     ]
    },
    {
     "name": "stdout",
     "output_type": "stream",
     "text": [
      "CPU times: user 41 s, sys: 9.89 ms, total: 41 s\n",
      "Wall time: 41 s\n"
     ]
    }
   ],
   "source": [
    "%%time\n",
    "\n",
    "partialmodel_alpha, partialmodel_beta, kernel_results = (\n",
    "    hamiltonian_monte_carlo(\n",
    "        partialmodel_validation,\n",
    "        partialmodel_confidence,\n",
    "    )\n",
    ")"
   ]
  },
  {
   "cell_type": "code",
   "execution_count": 131,
   "metadata": {},
   "outputs": [],
   "source": [
    "(\n",
    "    partialmodel_alpha_mean,\n",
    "    partialmodel_beta_mean,\n",
    "    partialmodel_linspace,\n",
    "    partialmodel_p_linspace,\n",
    "    partialmodel_mean_p,\n",
    "    partialmodel_quantiles,\n",
    ") = hmc_stats(partialmodel_alpha, partialmodel_beta)"
   ]
  },
  {
   "cell_type": "code",
   "execution_count": 132,
   "metadata": {},
   "outputs": [
    {
     "data": {
      "text/plain": [
       "Text(0.5, 1.0, 'Validation Probability given Prediction Confidence')"
      ]
     },
     "execution_count": 132,
     "metadata": {},
     "output_type": "execute_result"
    },
    {
     "data": {
      "image/png": "[encoded data removed]",
      "text/plain": [
       "<Figure size 432x288 with 1 Axes>"
      ]
     },
     "metadata": {
      "needs_background": "light"
     },
     "output_type": "display_data"
    }
   ],
   "source": [
    "plt.fill_between(partialmodel_linspace[:,0], *partialmodel_quantiles, alpha=0.5)\n",
    "plt.plot(partialmodel_linspace, partialmodel_mean_p[0,:])\n",
    "plt.xlim(partialmodel_linspace.min(), partialmodel_linspace.max())\n",
    "plt.ylim(0,1)\n",
    "\n",
    "plt.xlabel(\"Prediction Confidence, $c$\")\n",
    "plt.ylabel(\"Validation Probability, $p(c)$\")\n",
    "plt.title(\"Validation Probability given Prediction Confidence\")"
   ]
  },
  {
   "cell_type": "markdown",
   "metadata": {},
   "source": [
    "## Example: Fully Trained Model"
   ]
  },
  {
   "cell_type": "code",
   "execution_count": 121,
   "metadata": {},
   "outputs": [
    {
     "data": {
      "text/html": [
       "<div>\n",
       "<style scoped>\n",
       "    .dataframe tbody tr th:only-of-type {\n",
       "        vertical-align: middle;\n",
       "    }\n",
       "\n",
       "    .dataframe tbody tr th {\n",
       "        vertical-align: top;\n",
       "    }\n",
       "\n",
       "    .dataframe thead th {\n",
       "        text-align: right;\n",
       "    }\n",
       "</style>\n",
       "<table border=\"1\" class=\"dataframe\">\n",
       "  <thead>\n",
       "    <tr style=\"text-align: right;\">\n",
       "      <th></th>\n",
       "      <th>confidence</th>\n",
       "      <th>validation</th>\n",
       "    </tr>\n",
       "  </thead>\n",
       "  <tbody>\n",
       "    <tr>\n",
       "      <th>0</th>\n",
       "      <td>0.996536</td>\n",
       "      <td>1</td>\n",
       "    </tr>\n",
       "    <tr>\n",
       "      <th>1</th>\n",
       "      <td>0.998405</td>\n",
       "      <td>1</td>\n",
       "    </tr>\n",
       "    <tr>\n",
       "      <th>2</th>\n",
       "      <td>0.999903</td>\n",
       "      <td>1</td>\n",
       "    </tr>\n",
       "    <tr>\n",
       "      <th>3</th>\n",
       "      <td>0.986727</td>\n",
       "      <td>1</td>\n",
       "    </tr>\n",
       "    <tr>\n",
       "      <th>4</th>\n",
       "      <td>0.561795</td>\n",
       "      <td>1</td>\n",
       "    </tr>\n",
       "    <tr>\n",
       "      <th>...</th>\n",
       "      <td>...</td>\n",
       "      <td>...</td>\n",
       "    </tr>\n",
       "    <tr>\n",
       "      <th>803</th>\n",
       "      <td>0.989044</td>\n",
       "      <td>1</td>\n",
       "    </tr>\n",
       "    <tr>\n",
       "      <th>804</th>\n",
       "      <td>0.998684</td>\n",
       "      <td>1</td>\n",
       "    </tr>\n",
       "    <tr>\n",
       "      <th>805</th>\n",
       "      <td>0.997855</td>\n",
       "      <td>1</td>\n",
       "    </tr>\n",
       "    <tr>\n",
       "      <th>806</th>\n",
       "      <td>0.995161</td>\n",
       "      <td>1</td>\n",
       "    </tr>\n",
       "    <tr>\n",
       "      <th>807</th>\n",
       "      <td>0.997656</td>\n",
       "      <td>1</td>\n",
       "    </tr>\n",
       "  </tbody>\n",
       "</table>\n",
       "<p>808 rows × 2 columns</p>\n",
       "</div>"
      ],
      "text/plain": [
       "     confidence  validation\n",
       "0      0.996536           1\n",
       "1      0.998405           1\n",
       "2      0.999903           1\n",
       "3      0.986727           1\n",
       "4      0.561795           1\n",
       "..          ...         ...\n",
       "803    0.989044           1\n",
       "804    0.998684           1\n",
       "805    0.997855           1\n",
       "806    0.995161           1\n",
       "807    0.997656           1\n",
       "\n",
       "[808 rows x 2 columns]"
      ]
     },
     "execution_count": 121,
     "metadata": {},
     "output_type": "execute_result"
    }
   ],
   "source": [
    "finalmodel_data = pd.read_csv(\"validations/final_model.csv\")\n",
    "finalmodel_data"
   ]
  },
  {
   "cell_type": "code",
   "execution_count": 122,
   "metadata": {},
   "outputs": [
    {
     "data": {
      "text/plain": [
       "TensorShape([808])"
      ]
     },
     "execution_count": 122,
     "metadata": {},
     "output_type": "execute_result"
    }
   ],
   "source": [
    "finalmodel_validation = tf.convert_to_tensor(\n",
    "    finalmodel_data[\"validation\"].to_numpy(),\n",
    "    dtype=tf.float32,\n",
    ")\n",
    "finalmodel_validation.shape"
   ]
  },
  {
   "cell_type": "code",
   "execution_count": 123,
   "metadata": {},
   "outputs": [
    {
     "data": {
      "text/plain": [
       "TensorShape([808])"
      ]
     },
     "execution_count": 123,
     "metadata": {},
     "output_type": "execute_result"
    }
   ],
   "source": [
    "finalmodel_confidence = tf.convert_to_tensor(\n",
    "    finalmodel_data[\"confidence\"].to_numpy(),\n",
    "    dtype=tf.float32,\n",
    ")\n",
    "finalmodel_confidence.shape"
   ]
  },
  {
   "cell_type": "code",
   "execution_count": 124,
   "metadata": {},
   "outputs": [
    {
     "name": "stderr",
     "output_type": "stream",
     "text": [
      "/home/mara/.local/share/virtualenvs/probabilistic-model-evaluation--jq05Z78/lib/python3.6/site-packages/tensorflow_probability/python/mcmc/sample.py:338: UserWarning: Tracing all kernel results by default is deprecated. Set the `trace_fn` argument to None (the future default value) or an explicit callback that traces the values you are interested in.\n",
      "  warnings.warn('Tracing all kernel results by default is deprecated. Set '\n"
     ]
    },
    {
     "name": "stdout",
     "output_type": "stream",
     "text": [
      "CPU times: user 1min 5s, sys: 9.66 ms, total: 1min 5s\n",
      "Wall time: 1min 5s\n"
     ]
    }
   ],
   "source": [
    "%%time\n",
    "\n",
    "finalmodel_alpha, finalmodel_beta, kernel_results = (\n",
    "    hamiltonian_monte_carlo(\n",
    "        finalmodel_validation,\n",
    "        finalmodel_confidence,\n",
    "    )\n",
    ")"
   ]
  },
  {
   "cell_type": "code",
   "execution_count": 125,
   "metadata": {},
   "outputs": [],
   "source": [
    "(\n",
    "    finalmodel_alpha_mean,\n",
    "    finalmodel_beta_mean,\n",
    "    finalmodel_linspace,\n",
    "    finalmodel_p_linspace,\n",
    "    finalmodel_mean_p,\n",
    "    finalmodel_quantiles,\n",
    ") = hmc_stats(finalmodel_alpha, finalmodel_beta)"
   ]
  },
  {
   "cell_type": "code",
   "execution_count": 126,
   "metadata": {},
   "outputs": [
    {
     "data": {
      "text/plain": [
       "Text(0.5, 1.0, 'Validation Probability given Prediction Confidence')"
      ]
     },
     "execution_count": 126,
     "metadata": {},
     "output_type": "execute_result"
    },
    {
     "data": {
      "image/png": "[encoded data removed]",
      "text/plain": [
       "<Figure size 432x288 with 1 Axes>"
      ]
     },
     "metadata": {
      "needs_background": "light"
     },
     "output_type": "display_data"
    }
   ],
   "source": [
    "plt.fill_between(finalmodel_linspace[:,0], *finalmodel_quantiles, alpha=0.5)\n",
    "plt.plot(finalmodel_linspace, finalmodel_mean_p[0,:])\n",
    "plt.xlim(finalmodel_linspace.min(), finalmodel_linspace.max())\n",
    "plt.ylim(0,1)\n",
    "\n",
    "plt.xlabel(\"Prediction Confidence, $c$\")\n",
    "plt.ylabel(\"Validation Probability, $p(c)$\")\n",
    "plt.title(\"Validation Probability given Prediction Confidence\")"
   ]
  },
  {
   "cell_type": "markdown",
   "metadata": {},
   "source": [
    "## Example: Model with Limited Feedback"
   ]
  },
  {
   "cell_type": "code",
   "execution_count": 146,
   "metadata": {},
   "outputs": [
    {
     "data": {
      "text/plain": [
       "65"
      ]
     },
     "execution_count": 146,
     "metadata": {},
     "output_type": "execute_result"
    }
   ],
   "source": [
    "limited_data = finalmodel_data[finalmodel_data[\"confidence\"] < 0.9]\n",
    "len(limited_data)"
   ]
  },
  {
   "cell_type": "code",
   "execution_count": 147,
   "metadata": {},
   "outputs": [
    {
     "data": {
      "text/plain": [
       "TensorShape([65])"
      ]
     },
     "execution_count": 147,
     "metadata": {},
     "output_type": "execute_result"
    }
   ],
   "source": [
    "limited_validation = tf.convert_to_tensor(\n",
    "    limited_data[\"validation\"].to_numpy(),\n",
    "    dtype=tf.float32,\n",
    ")\n",
    "limited_validation.shape"
   ]
  },
  {
   "cell_type": "code",
   "execution_count": 148,
   "metadata": {},
   "outputs": [
    {
     "data": {
      "text/plain": [
       "TensorShape([65])"
      ]
     },
     "execution_count": 148,
     "metadata": {},
     "output_type": "execute_result"
    }
   ],
   "source": [
    "limited_confidence = tf.convert_to_tensor(\n",
    "    limited_data[\"confidence\"].to_numpy(),\n",
    "    dtype=tf.float32,\n",
    ")\n",
    "limited_confidence.shape"
   ]
  },
  {
   "cell_type": "code",
   "execution_count": 149,
   "metadata": {},
   "outputs": [
    {
     "name": "stderr",
     "output_type": "stream",
     "text": [
      "/home/mara/.local/share/virtualenvs/probabilistic-model-evaluation--jq05Z78/lib/python3.6/site-packages/tensorflow_probability/python/mcmc/sample.py:338: UserWarning: Tracing all kernel results by default is deprecated. Set the `trace_fn` argument to None (the future default value) or an explicit callback that traces the values you are interested in.\n",
      "  warnings.warn('Tracing all kernel results by default is deprecated. Set '\n"
     ]
    },
    {
     "name": "stdout",
     "output_type": "stream",
     "text": [
      "CPU times: user 39.6 s, sys: 0 ns, total: 39.6 s\n",
      "Wall time: 39.6 s\n"
     ]
    }
   ],
   "source": [
    "%%time\n",
    "\n",
    "limited_alpha, limited_beta, kernel_results = (\n",
    "    hamiltonian_monte_carlo(\n",
    "        limited_validation,\n",
    "        limited_confidence,\n",
    "    )\n",
    ")"
   ]
  },
  {
   "cell_type": "code",
   "execution_count": 150,
   "metadata": {},
   "outputs": [],
   "source": [
    "(\n",
    "    limited_alpha_mean,\n",
    "    limited_beta_mean,\n",
    "    limited_linspace,\n",
    "    limited_p_linspace,\n",
    "    limited_mean_p,\n",
    "    limited_quantiles,\n",
    ") = hmc_stats(limited_alpha, limited_beta)"
   ]
  },
  {
   "cell_type": "code",
   "execution_count": 151,
   "metadata": {},
   "outputs": [
    {
     "data": {
      "text/plain": [
       "Text(0.5, 1.0, 'Validation Probability given Prediction Confidence')"
      ]
     },
     "execution_count": 151,
     "metadata": {},
     "output_type": "execute_result"
    },
    {
     "data": {
      "image/png": "[encoded data removed]",
      "text/plain": [
       "<Figure size 432x288 with 1 Axes>"
      ]
     },
     "metadata": {
      "needs_background": "light"
     },
     "output_type": "display_data"
    }
   ],
   "source": [
    "plt.fill_between(limited_linspace[:,0], *limited_quantiles, alpha=0.5)\n",
    "plt.plot(limited_linspace, limited_mean_p[0,:])\n",
    "plt.xlim(limited_linspace.min(), limited_linspace.max())\n",
    "plt.ylim(0,1)\n",
    "\n",
    "plt.xlabel(\"Prediction Confidence, $c$\")\n",
    "plt.ylabel(\"Validation Probability, $p(c)$\")\n",
    "plt.title(\"Validation Probability given Prediction Confidence\")"
   ]
  },
  {
   "cell_type": "markdown",
   "metadata": {},
   "source": [
    "## References\n",
    "\n",
    "* https://colab.research.google.com/github/CamDavidsonPilon/Probabilistic-Programming-and-Bayesian-Methods-for-Hackers/blob/master/Chapter2_MorePyMC/Ch2_MorePyMC_TFP.ipynb\n",
    "* https://www.tensorflow.org/probability/api_docs/python/tfp/mcmc/HamiltonianMonteCarlo"
   ]
  }
 ],
 "metadata": {
  "kernelspec": {
   "display_name": "Python 3",
   "language": "python",
   "name": "python3"
  },
  "language_info": {
   "codemirror_mode": {
    "name": "ipython",
    "version": 3
   },
   "file_extension": ".py",
   "mimetype": "text/x-python",
   "name": "python",
   "nbconvert_exporter": "python",
   "pygments_lexer": "ipython3",
   "version": "3.6.12"
  }
 },
 "nbformat": 4,
 "nbformat_minor": 4
}
