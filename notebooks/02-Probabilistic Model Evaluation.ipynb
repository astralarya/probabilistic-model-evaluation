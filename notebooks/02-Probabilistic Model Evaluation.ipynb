{
 "cells": [
  {
   "cell_type": "markdown",
   "metadata": {},
   "source": [
    "# Probabilistic Model Evaluation"
   ]
  },
  {
   "cell_type": "markdown",
   "metadata": {},
   "source": [
    "When using deep learning models in production,\n",
    "we do not have the luxury of having access to ground truth.\n",
    "However, it may be feasable to integrate a human domain expert\n",
    "into production workflows.\n",
    "\n",
    "In order to maximize throughput,\n",
    "we must be selective about when we alert our human expert.\n",
    "If we can understand the reliability of our model predictions\n",
    "as a function of its self-reported confidence,\n",
    "we can use this to guide business logic in our application."
   ]
  },
  {
   "cell_type": "markdown",
   "metadata": {},
   "source": [
    "The chance of our model making a valid prediction\n",
    "can be thought of as a\n",
    "[Bernoulli](https://en.wikipedia.org/wiki/Bernoulli_distribution)\n",
    "random variable:\n",
    "\n",
    "$$\\text{Valid Prediction}, V_i \\sim \\text{Ber}( p(c_i) ), i=1..N$$"
   ]
  },
  {
   "cell_type": "markdown",
   "metadata": {},
   "source": [
    "where $p(c_i)$ is a\n",
    "[logistic function](https://en.wikipedia.org/wiki/Logistic_function)\n",
    "of the prediction confidence:\n",
    "\n",
    "$$p(c) = \\frac{1}{1+e^{\\beta c}}$$"
   ]
  },
  {
   "cell_type": "code",
   "execution_count": null,
   "metadata": {},
   "outputs": [],
   "source": []
  }
 ],
 "metadata": {
  "kernelspec": {
   "display_name": "Python 3",
   "language": "python",
   "name": "python3"
  },
  "language_info": {
   "codemirror_mode": {
    "name": "ipython",
    "version": 3
   },
   "file_extension": ".py",
   "mimetype": "text/x-python",
   "name": "python",
   "nbconvert_exporter": "python",
   "pygments_lexer": "ipython3",
   "version": "3.6.9"
  }
 },
 "nbformat": 4,
 "nbformat_minor": 4
}
